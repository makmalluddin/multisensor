{
 "cells": [
  {
   "cell_type": "code",
   "execution_count": null,
   "metadata": {},
   "outputs": [],
   "source": [
    "#Kita coba cari gradien pada tiap sampe sensor A\n",
    "import numpy as np\n",
    "\n",
    "#cari nilai gradien maximum\n",
    "x = da_1['time(s)']\n",
    "\n",
    "#Buat variabel\n",
    "variabel = []\n",
    "for i in range (1, 36):\n",
    "    variabel.append(f'da_{i}')\n",
    "\n",
    "#Hitung gradien max\n",
    "Hasil = []\n",
    "for i in variabel:\n",
    "    y = locals()[i]\n",
    "    F = ['F1', 'F2', 'F3', 'F4', 'F5', 'F6', 'F7', 'F8', 'F9', 'F10']\n",
    "\n",
    "    for j in F :\n",
    "        gradient = np.gradient(y[j], x)\n",
    "        idx_max = np.argmax(gradient)\n",
    "        nilai_max = gradient[idx_max]\n",
    "        waktu_max = y.at[y.index[idx_max], 'time(s)']\n",
    "        \n",
    "        dataframe = pd.DataFrame({\n",
    "            'DataFrame': [i],\n",
    "            'Kolom': [j],\n",
    "            'Nilai Max Gradien': [nilai_max],\n",
    "            'Pada Saat (s)': [waktu_max]\n",
    "        })\n",
    "    \n",
    "        Hasil.append(dataframe)\n",
    "\n",
    "final = pd.concat(Hasil, ignore_index=True)\n",
    "\n",
    "# Mencetak hasil perhitungan untuk setiap DataFrame\n",
    "for da in final['DataFrame'].unique():\n",
    "    print(f\"\\nDataFrame: {da}\")\n",
    "    newda = final[final['DataFrame'] == da].drop(columns=['DataFrame'])\n",
    "    print(newda)\n"
   ]
  }
 ],
 "metadata": {
  "language_info": {
   "name": "python"
  }
 },
 "nbformat": 4,
 "nbformat_minor": 2
}
